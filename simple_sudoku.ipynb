{
  "nbformat": 4,
  "nbformat_minor": 0,
  "metadata": {
    "colab": {
      "provenance": [],
      "authorship_tag": "ABX9TyPwgoOzH6qIZARE0m1UR0b+"
    },
    "kernelspec": {
      "name": "python3",
      "display_name": "Python 3"
    },
    "language_info": {
      "name": "python"
    }
  },
  "cells": [
    {
      "cell_type": "markdown",
      "source": [
        "Reference: https://colab.research.google.com/github/ampl/colab.ampl.com/blob/master/authors/mapgccv/miscellaneous/sudoku.ipynb#scrollTo=jxi-HR24j7jh"
      ],
      "metadata": {
        "id": "bIXjg4b6wHg_"
      }
    },
    {
      "cell_type": "code",
      "execution_count": 1,
      "metadata": {
        "colab": {
          "base_uri": "https://localhost:8080/"
        },
        "id": "gVQjvGNMwAyw",
        "outputId": "22d878a2-fa6a-4b3c-d36d-0caf23f1cad8"
      },
      "outputs": [
        {
          "output_type": "stream",
          "name": "stdout",
          "text": [
            "\u001b[2K     \u001b[90m━━━━━━━━━━━━━━━━━━━━━━━━━━━━━━━━━━━━━━━━\u001b[0m \u001b[32m5.6/5.6 MB\u001b[0m \u001b[31m16.3 MB/s\u001b[0m eta \u001b[36m0:00:00\u001b[0m\n",
            "\u001b[2K     \u001b[90m━━━━━━━━━━━━━━━━━━━━━━━━━━━━━━━━━━━━━━━━\u001b[0m \u001b[32m1.6/1.6 MB\u001b[0m \u001b[31m22.7 MB/s\u001b[0m eta \u001b[36m0:00:00\u001b[0m\n",
            "\u001b[?25h"
          ]
        }
      ],
      "source": [
        "%pip install -q amplpy ipywidgets"
      ]
    },
    {
      "cell_type": "code",
      "source": [
        "from amplpy import AMPL, ampl_notebook\n",
        "\n",
        "ampl = ampl_notebook(\n",
        "    modules=[\"highs\"],  # modules to install\n",
        "    license_uuid=\"default\",  # license to use\n",
        ")  # instantiate AMPL object and register magics"
      ],
      "metadata": {
        "colab": {
          "base_uri": "https://localhost:8080/"
        },
        "id": "kVThG2TqwO-e",
        "outputId": "1f478b1c-c8a7-4d5f-9710-7d123b57089d"
      },
      "execution_count": 2,
      "outputs": [
        {
          "output_type": "stream",
          "name": "stdout",
          "text": [
            "Using default Community Edition License for Colab. Get yours at: https://ampl.com/ce\n",
            "Licensed to AMPL Community Edition License for the AMPL Model Colaboratory (https://colab.ampl.com).\n"
          ]
        }
      ]
    },
    {
      "cell_type": "code",
      "source": [
        "%%ampl_eval\n",
        "reset;\n",
        "option solver highs;\n",
        "# The base number of this sudoku; 3 is the default (9 numbers game)\n",
        "param BASE default 3;\n",
        "# The line/column lenght, derived from BASE\n",
        "param L := BASE*BASE;\n",
        "\n",
        "# Set of all Rows\n",
        "set ROWS := {1..L};\n",
        "# Set of all columns\n",
        "set COLS := {1..L};\n",
        "# This indexed set memorizes the tuples of coordinates for each\n",
        "# sub-square making up the grid\n",
        "set SUBSQUARES{sr in 1..BASE, sc in 1..BASE} within {ROWS, COLS}\n",
        "\t            = {(sr-1)*BASE+1..sr*BASE, (sc-1)*BASE+1..sc*BASE};"
      ],
      "metadata": {
        "id": "9nhhWIlbwV7i"
      },
      "execution_count": 3,
      "outputs": []
    },
    {
      "cell_type": "code",
      "source": [
        "ampl.display(\"SUBSQUARES\")"
      ],
      "metadata": {
        "colab": {
          "base_uri": "https://localhost:8080/"
        },
        "id": "Xl4d1vdsws3B",
        "outputId": "d6d59fd1-b5ec-4cc4-bf95-7605fa53ca49"
      },
      "execution_count": 4,
      "outputs": [
        {
          "output_type": "stream",
          "name": "stdout",
          "text": [
            "set SUBSQUARES[1,1] := (1,1) (1,2) (1,3) (2,1) (2,2) (2,3) (3,1) (3,2) (3,3);\n",
            "set SUBSQUARES[1,2] := (1,4) (1,5) (1,6) (2,4) (2,5) (2,6) (3,4) (3,5) (3,6);\n",
            "set SUBSQUARES[1,3] := (1,7) (1,8) (1,9) (2,7) (2,8) (2,9) (3,7) (3,8) (3,9);\n",
            "set SUBSQUARES[2,1] := (4,1) (4,2) (4,3) (5,1) (5,2) (5,3) (6,1) (6,2) (6,3);\n",
            "set SUBSQUARES[2,2] := (4,4) (4,5) (4,6) (5,4) (5,5) (5,6) (6,4) (6,5) (6,6);\n",
            "set SUBSQUARES[2,3] := (4,7) (4,8) (4,9) (5,7) (5,8) (5,9) (6,7) (6,8) (6,9);\n",
            "set SUBSQUARES[3,1] := (7,1) (7,2) (7,3) (8,1) (8,2) (8,3) (9,1) (9,2) (9,3);\n",
            "set SUBSQUARES[3,2] := (7,4) (7,5) (7,6) (8,4) (8,5) (8,6) (9,4) (9,5) (9,6);\n",
            "set SUBSQUARES[3,3] := (7,7) (7,8) (7,9) (8,7) (8,8) (8,9) (9,7) (9,8) (9,9);\n",
            "\n"
          ]
        }
      ]
    },
    {
      "cell_type": "code",
      "source": [
        "%%ampl_eval\n",
        "# The variables representing the numbers at all positions\n",
        "var x{ROWS, COLS} >=1, <=L integer;\n",
        "\n",
        "var IsN{1..L, COLS, ROWS} binary;\n",
        "\n",
        "# Set this parameter to non-zero to force a position to have that value\n",
        "param givenData{ROWS, COLS} default 0;\n",
        "\n",
        "# Dummy objective, just to \"encourage\" the solver to get the same\n",
        "# objective function in case of a degenerate sudoku\n",
        "maximize z: x[1,1];\n",
        "\n",
        "# Fix input data\n",
        "subject to fixGivenData {r in ROWS, c in COLS : givenData[r,c] > 0}:\n",
        "  x[r,c] = givenData[r,c];\n",
        "\n",
        "# Each position only one number\n",
        "subject to MIPOnlyOneNumber {r in ROWS, c in COLS}:\n",
        "  sum{n in 1..L} IsN[n,c,r] = 1;\n",
        "\n",
        "# Each number must be present in each row once\n",
        "subject to MIPEachRowOneNumber {r in ROWS, n in 1..L}:\n",
        "  sum{c in COLS} IsN[n,c,r] = 1;\n",
        "\n",
        "# Each number must be present in each col once\n",
        "subject to MIPEachColOneNumber {r in COLS, n in 1..L}:\n",
        "  sum{c in ROWS} IsN[n,c,r] = 1;\n",
        "\n",
        "# Each number must be present in each subsquare once\n",
        "subject to MIPEachSquareOneNumber {n in 1..L, sr in 1..BASE, sc in 1..BASE}:\n",
        "  sum{(r, c) in SUBSQUARES[sr, sc]} IsN[n, c, r] = 1;\n",
        "\n",
        "# Link to the logical model variable\n",
        "subject to MIPLinkToX {r in ROWS, c in COLS}:\n",
        "  sum{n in 1..L} IsN[n,c,r]*n =x[r,c];\n",
        "\n",
        "# Define a named problem to quickly switch between formulations\n",
        "problem sudokuMIP: x, IsN, z, fixGivenData, MIPOnlyOneNumber, MIPEachRowOneNumber, MIPEachColOneNumber, MIPEachSquareOneNumber, MIPLinkToX;"
      ],
      "metadata": {
        "id": "mRaeWSq2xJG_"
      },
      "execution_count": 5,
      "outputs": []
    },
    {
      "cell_type": "code",
      "source": [
        "from random import seed, random\n",
        "\n",
        "BASE = 3\n",
        "seed(1234)\n",
        "\n",
        "\n",
        "def random_state():\n",
        "    ampl.param[\"BASE\"] = BASE\n",
        "    # ampl.param[\"givenData\"] = {(1, 1): 0}\n",
        "    if BASE != 3:\n",
        "        return\n",
        "    solution = [\n",
        "        [2, 5, 7, 8, 6, 3, 1, 4, 9],\n",
        "        [4, 9, 6, 5, 7, 1, 8, 3, 2],\n",
        "        [8, 1, 3, 9, 4, 2, 7, 6, 5],\n",
        "        [1, 6, 5, 2, 9, 4, 3, 7, 8],\n",
        "        [9, 8, 4, 1, 3, 7, 5, 2, 6],\n",
        "        [3, 7, 2, 6, 5, 8, 4, 9, 1],\n",
        "        [7, 2, 9, 4, 8, 5, 6, 1, 3],\n",
        "        [5, 3, 1, 7, 2, 6, 9, 8, 4],\n",
        "        [6, 4, 8, 3, 1, 9, 2, 5, 7],\n",
        "    ]\n",
        "    ampl.param[\"givenData\"] = {\n",
        "        (i + 1, j + 1): solution[i][j] if random() <= 1 / 3.0 else 0\n",
        "        for i in range(9)\n",
        "        for j in range(9)\n",
        "    }\n",
        "\n",
        "\n",
        "random_state()"
      ],
      "metadata": {
        "id": "nyBjPK0X0sBq"
      },
      "execution_count": 6,
      "outputs": []
    },
    {
      "cell_type": "code",
      "source": [
        "ampl.display(\"givenData\")"
      ],
      "metadata": {
        "colab": {
          "base_uri": "https://localhost:8080/"
        },
        "id": "Amds0KK59HVW",
        "outputId": "5006cf34-61fe-42ec-9537-2c99f57bda37"
      },
      "execution_count": 7,
      "outputs": [
        {
          "output_type": "stream",
          "name": "stdout",
          "text": [
            "givenData [*,*]\n",
            ":   1   2   3   4   5   6   7   8   9    :=\n",
            "1   0   0   7   0   0   0   0   4   0\n",
            "2   4   9   0   0   0   0   8   3   2\n",
            "3   8   0   0   9   0   0   0   6   0\n",
            "4   1   0   0   0   0   4   0   0   0\n",
            "5   9   0   4   1   0   0   5   0   6\n",
            "6   0   7   0   0   0   8   4   9   1\n",
            "7   0   2   9   0   8   0   6   0   0\n",
            "8   0   0   0   0   0   0   0   0   0\n",
            "9   0   4   8   3   0   9   0   0   0\n",
            ";\n",
            "\n"
          ]
        }
      ]
    },
    {
      "cell_type": "code",
      "source": [
        "problem_name = \"sudokuMIP\"\n",
        "ampl.eval(f\"solve {problem_name};\")"
      ],
      "metadata": {
        "colab": {
          "base_uri": "https://localhost:8080/"
        },
        "id": "NSBp39cE1LwV",
        "outputId": "82045db5-32a0-4453-f8a0-9671e60d506d"
      },
      "execution_count": 8,
      "outputs": [
        {
          "output_type": "stream",
          "name": "stdout",
          "text": [
            "HiGHS 1.6.0: \b\b\b\b\b\b\b\b\b\b\b\b\bHiGHS 1.6.0: optimal solution; objective 6\n",
            "194 simplex iterations\n",
            "1 branching nodes\n",
            " \n"
          ]
        }
      ]
    },
    {
      "cell_type": "code",
      "source": [
        "# ampl.get_data(\"x\").to_dict()\n",
        "ampl.display(\"x\")"
      ],
      "metadata": {
        "colab": {
          "base_uri": "https://localhost:8080/"
        },
        "id": "sVTh73le1mz4",
        "outputId": "cb27d951-5ee6-4858-bebd-a528d5214428"
      },
      "execution_count": 9,
      "outputs": [
        {
          "output_type": "stream",
          "name": "stdout",
          "text": [
            "x [*,*]\n",
            ":   1   2   3   4   5   6   7   8   9    :=\n",
            "1   6   2   7   3   8   1   5   4   9\n",
            "2   4   9   1   7   6   5   8   3   2\n",
            "3   8   5   3   9   2   4   1   6   7\n",
            "4   1   3   5   9   6   4   8   2   7\n",
            "5   9   8   4   1   7   2   5   3   6\n",
            "6   2   7   6   5   3   8   4   9   1\n",
            "7   7   2   9   1   8   5   6   3   4\n",
            "8   3   5   1   7   6   4   2   8   9\n",
            "9   6   4   8   3   2   9   1   5   7\n",
            ";\n",
            "\n"
          ]
        }
      ]
    }
  ]
}