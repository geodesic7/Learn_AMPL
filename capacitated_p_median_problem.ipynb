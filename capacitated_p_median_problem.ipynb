{
  "nbformat": 4,
  "nbformat_minor": 0,
  "metadata": {
    "colab": {
      "provenance": [],
      "authorship_tag": "ABX9TyPeEI4u9hZq3UbR4xMFJbPT"
    },
    "kernelspec": {
      "name": "python3",
      "display_name": "Python 3"
    },
    "language_info": {
      "name": "python"
    }
  },
  "cells": [
    {
      "cell_type": "markdown",
      "source": [
        "Reference: https://colab.research.google.com/github/ampl/colab.ampl.com/blob/master/authors/lentz/gcg/cpmp.ipynb"
      ],
      "metadata": {
        "id": "wubtlKVlQ--1"
      }
    },
    {
      "cell_type": "code",
      "source": [
        "%pip install -q amplpy"
      ],
      "metadata": {
        "colab": {
          "base_uri": "https://localhost:8080/"
        },
        "id": "UqxyEMT6RyYk",
        "outputId": "100be88e-169e-4dca-a720-dec45d1b1907"
      },
      "execution_count": 3,
      "outputs": [
        {
          "output_type": "stream",
          "name": "stdout",
          "text": [
            "\u001b[2K     \u001b[90m━━━━━━━━━━━━━━━━━━━━━━━━━━━━━━━━━━━━━━━━\u001b[0m \u001b[32m5.6/5.6 MB\u001b[0m \u001b[31m13.0 MB/s\u001b[0m eta \u001b[36m0:00:00\u001b[0m\n",
            "\u001b[?25h"
          ]
        }
      ]
    },
    {
      "cell_type": "code",
      "source": [
        "import networkx as nx\n",
        "import matplotlib.pyplot as plt\n",
        "from amplpy import AMPL, ampl_notebook\n",
        "\n",
        "ampl = ampl_notebook(\n",
        "    modules=[\"gcg\"],  # modules to install\n",
        "    license_uuid=\"default\",  # license to use\n",
        ")"
      ],
      "metadata": {
        "colab": {
          "base_uri": "https://localhost:8080/"
        },
        "id": "TGUCaiUwR2ZL",
        "outputId": "362e5b9d-7da0-4822-826e-f1e493966e0b"
      },
      "execution_count": 69,
      "outputs": [
        {
          "output_type": "stream",
          "name": "stdout",
          "text": [
            "Using default Community Edition License for Colab. Get yours at: https://ampl.com/ce\n",
            "Licensed to AMPL Community Edition License for the AMPL Model Colaboratory (https://colab.ampl.com).\n"
          ]
        }
      ]
    },
    {
      "cell_type": "markdown",
      "source": [
        "# Problem\n",
        "\n",
        "The goal of the capacitated $p$-median problem (CPMP) is to fix $p \\in \\mathbb{N}$ locations as medians from a given number of $n \\in \\mathbb{N}$ locations. Furthermore, we are given demands $q_{i} \\geq 0$ and capacities $Q_{i} \\geq 0$ for every location $i \\in \\{1,\\ldots,n\\}$ as well as distances $d_{ij} \\geq 0$ for each pair of locations $i,j \\in \\{1,\\ldots,n\\}$. While fixing the medians, we also assign every location $i \\in \\{1,\\ldots,n\\}$ to exactly one median such that the demands of all locations assigned to the median can be satisfied by the capacity of the median. An assignment of locations to a median is called a cluster. The overall objective is to minimize the total distance between the medians and their assigned locations.\n",
        "\n",
        "$$\n",
        "\\begin{aligned}\n",
        "\\text{minimize} \\quad &\\sum_{i = 1}^{n} \\sum_{j = 1}^{n} d_{i j}  x_{i j} \\\\\n",
        "\\text{subject to} \\quad &\\sum_{j = 1}^{n} x_{i j} = 1 \\quad \\forall i \\in \\{1,...,n\\} \\\\\n",
        "&\\sum_{i = 1}^{n} q_{i} x_{i j} \\leq Q_{j} y_{j} \\quad \\forall j \\in \\{1,...,n\\} \\\\\n",
        "&\\sum_{j = 1}^{n} y_{j} = p \\\\\n",
        "&x_{i j}, y_j \\in \\{0,1\\} \\quad \\forall i,j \\in \\{1,...,n\\}\n",
        "\\end{aligned}\n",
        "$$"
      ],
      "metadata": {
        "id": "ndk8BaN-SO0_"
      }
    },
    {
      "cell_type": "code",
      "source": [
        "%%ampl_eval\n",
        "param n;\n",
        "param p;\n",
        "\n",
        "set I = 1..n;\n",
        "set J = 1..n;\n",
        "\n",
        "param d {I,J};\n",
        "param w {I};\n",
        "param C {J};\n",
        "\n",
        "var x {I,J} binary;\n",
        "var y {J} binary;\n",
        "\n",
        "minimize Cost:  sum {i in I} sum {j in J} d[i,j] * x[i,j];\n",
        "\n",
        "subject to Allocate {i in I}:\n",
        "   sum {j in J} x[i,j] = 1;\n",
        "\n",
        "subject to Capacity {j in J}:\n",
        "   sum {i in I} w[i] * x[i,j] <= C[j] * y[j];\n",
        "\n",
        "subject to NFacilities:\n",
        "  sum{j in J} y[j] = p;"
      ],
      "metadata": {
        "id": "aior7PntR9qp"
      },
      "execution_count": 70,
      "outputs": []
    },
    {
      "cell_type": "code",
      "source": [
        "ampl.param[\"n\"] = 5\n",
        "ampl.param[\"p\"] = 2\n",
        "\n",
        "distances = [\n",
        "    [0, 6, 54, 52, 19],\n",
        "    [6, 0, 28, 75, 61],\n",
        "    [54, 28, 0, 91, 40],\n",
        "    [52, 75, 91, 0, 28],\n",
        "    [19, 61, 40, 28, 0],\n",
        "]\n",
        "demands = [14, 13, 9, 15, 6]\n",
        "capacities = [39, 39, 39, 39, 39]\n",
        "\n",
        "ampl.param[\"d\"] = {(i, j): distances[i - 1][j - 1] for i in range(1, 6) for j in range(1, 6)}\n",
        "ampl.param[\"w\"] = demands\n",
        "ampl.param[\"C\"] = capacities"
      ],
      "metadata": {
        "id": "y6QC3QQ-T4Zj"
      },
      "execution_count": 71,
      "outputs": []
    },
    {
      "cell_type": "code",
      "source": [
        "ampl.option[\"solver\"] = \"gcg\"\n",
        "ampl.option[\"gcg_options\"] = \"outlev=1\"\n",
        "ampl.solve()"
      ],
      "metadata": {
        "colab": {
          "base_uri": "https://localhost:8080/"
        },
        "id": "R-5d_KTwUBT3",
        "outputId": "bae191a3-76f9-421d-ba51-c33ea47870e8"
      },
      "execution_count": 72,
      "outputs": [
        {
          "output_type": "stream",
          "name": "stdout",
          "text": [
            "GCG 3.6.0:   tech:outlev = 1\n",
            "presolving:\n",
            "(round 1, exhaustive) 0 del vars, 0 del conss, 0 add conss, 0 chg bounds, 0 chg sides, 0 chg coeffs, 10 upgd conss, 0 impls, 5 clqs\n",
            "   (0.0s) probing cycle finished: starting next cycle\n",
            "presolving (2 rounds: 2 fast, 2 medium, 2 exhaustive):\n",
            " 0 deleted vars, 0 deleted constraints, 0 added constraints, 0 tightened bounds, 0 added holes, 0 changed sides, 0 changed coefficients\n",
            " 0 implications, 30 cliques\n",
            "presolved problem has 30 variables (30 bin, 0 int, 0 impl, 0 cont) and 11 constraints\n",
            "      5 constraints of type <knapsack>\n",
            "      5 constraints of type <setppc>\n",
            "      1 constraints of type <linear>\n",
            "transformed objective value is always integral (scale: 1)\n",
            "Presolving Time: 0.00\n",
            " Consclassifier \"nonzeros\" yields a classification with 2  different constraint classes \n",
            " Consclassifier \"constypes\" yields a classification with 3 different constraint classes \n",
            " Consclassifier \"constypes according to miplib\" yields a classification with 3 different constraint classes \n",
            " Conspartition \"constypes according to miplib\" is not considered since it offers the same structure as \"constypes\" conspartition\n",
            " Consclassifier \"gamsdomain\" yields a classification with 1  different constraint classes \n",
            " Consclassifier \"gamssymbols\" yields a classification with 1  different constraint classes \n",
            " Conspartition \"gamssymbols\" is not considered since it offers the same structure as \"gamsdomain\" conspartition\n",
            " Varclassifier \"gamsdomain\" yields a classification with 1  different variable classes \n",
            " Varclassifier \"gamssymbols\" yields a classification with 1  different variable classes \n",
            " Varpartition \"gamssymbols\" is not considered since it offers the same structure as \"gamsdomain\"\n",
            " Varclassifier \"vartypes\" yields a classification with 1 different variable classes\n",
            " Varpartition \"vartypes\" is not considered since it offers the same structure as \"gamsdomain\"\n",
            " Varclassifier \"varobjvals\" yields a classification with 10 different variable classes\n",
            " Varclassifier \"varobjvalsigns\" yields a classification with 2 different variable classes\n",
            " Added reduced version of varpartition varobjvals with 9 different variable classes\n",
            " in dec_consclass: there are 3 different constraint classes   \n",
            "  the current constraint classifier \"nonzeros\" consists of 2 different classes   \n",
            "  the current constraint classifier \"constypes\" consists of 3 different classes   \n",
            "  the current constraint classifier \"gamsdomain\" consists of 1 different classes   \n",
            " dec_consclass found 11 new partialdecs \n",
            "dec_densemasterconss found 1 new partialdec \n",
            "dec_neighborhoodmaster found 1 new partialdec \n",
            " the current varclass distribution includes 10 classes but only 9 are allowed for propagatePartialdec() of var class detector\n",
            "POSTPROCESSING of decompositions. Added 0 new decomps. \n",
            "Found 521 finished decompositions.\n",
            "Measured running time per detector:\n",
            "Detector consclass                 worked on        7 finished decompositions and took a total time of      0.000\n",
            "Detector neighborhoodmaster        worked on        1 finished decompositions and took a total time of      0.000\n",
            "Detector connectedbase             worked on      520 finished decompositions and took a total time of      0.005\n",
            "Detector varclass                  worked on      512 finished decompositions and took a total time of      0.004\n",
            "Detection Time: 0.03\n",
            "\n",
            "A Dantzig-Wolfe reformulation is applied to solve the original problem.\n",
            "Chosen structure has 5 blocks and 6 linking constraints.\n",
            "This decomposition has a maxwhite score of 0.363636.\n",
            "Matrix has 5 blocks, using 5 pricing problems.\n",
            "\n",
            "  time | node  | left  |SLP iter|MLP iter|LP it/n| mem |mdpt |ovars|mvars|ocons|mcons|mcuts|  dualbound   | primalbound  |  deg   |  gap   \n",
            "p  0.0s|     1 |     0 |      0 |      0 |     - |3230k|   0 |  30 |   0 |  11 |   0 |   0 | 0.000000e+00 | 1.480000e+02 |   --   |    Inf \n",
            "p  0.0s|     1 |     0 |      0 |      0 |     - |3232k|   0 |  30 |   0 |  11 |   0 |   0 | 0.000000e+00 | 8.800000e+01 |   --   |    Inf \n",
            "p  0.0s|     1 |     0 |      0 |      0 |     - |3229k|   0 |  30 |   0 |  11 |   0 |   0 | 0.000000e+00 | 6.200000e+01 |   --   |    Inf \n",
            "   0.0s|     1 |     0 |      0 |      0 |     - |3225k|   0 |  30 |   0 |  11 |   0 |   0 | 0.000000e+00 | 6.200000e+01 |   --   |    Inf \n",
            "\n",
            "     \n",
            "   0.0s|     1 |     0 |      0 |      0 |     - |3352k|   0 |  30 |   5 |  12 |  12 |   0 | 0.000000e+00 | 6.200000e+01 |   0.00%|    Inf \n",
            "   0.0s|     1 |     0 |      0 |      0 |     - |3389k|   0 |  30 |  20 |  12 |  12 |   0 | 0.000000e+00 | 6.200000e+01 |   0.00%|    Inf \n",
            "Starting reduced cost pricing...\n",
            "   0.0s|     1 |     0 |     17 |     17 |     - |3431k|   0 |  30 |  32 |  12 |  12 |   0 | 6.200000e+01 | 6.200000e+01 |  54.55%|   0.00%\n",
            "   0.0s|     1 |     0 |     17 |     17 |     - |3403k|   0 |  30 |  20 |  12 |  12 |   0 | 6.200000e+01 | 6.200000e+01 |   --   |   0.00%\n",
            "\n",
            "SCIP Status        : problem is solved [optimal solution found]\n",
            "Solving Time (sec) : 0.02\n",
            "Solving Nodes      : 1\n",
            "Primal Bound       : +6.20000000000000e+01 (4 solutions)\n",
            "Dual Bound         : +6.20000000000000e+01\n",
            "Gap                : 0.00 %\n",
            "WARNING: Dual information only available for pure LPs (only continuous variables).\n",
            "\b\b\b\b\b\b\b\b\b\b\bGCG 3.6.0: optimal solution; objective 62\n",
            "11 simplex iterations\n",
            "1 branching nodes\n",
            " \n"
          ]
        }
      ]
    },
    {
      "cell_type": "code",
      "source": [
        "resulting_edges = [edge for edge, v in ampl.var[\"x\"].to_dict().items() if v==1]\n",
        "resulting_nodes = [node for node, v in ampl.var[\"y\"].to_dict().items() if v==1]"
      ],
      "metadata": {
        "id": "itoP6si4UEUB"
      },
      "execution_count": 73,
      "outputs": []
    },
    {
      "cell_type": "code",
      "source": [
        "def draw_graph(distances, resulting_edges, resulting_nodes):\n",
        "  g = nx.DiGraph()\n",
        "  g.add_nodes_from([(i+1, dict(demand=d)) for i, d in enumerate(demands)])\n",
        "  g.add_edges_from([(i, j, dict(distance=distances[i-1][j-1])) for i, j in resulting_edges])\n",
        "\n",
        "  color_map = ['yellow']*5\n",
        "  for i in resulting_nodes:\n",
        "    color_map[i-1] = 'red'\n",
        "\n",
        "  pos = nx.planar_layout(g)\n",
        "\n",
        "  nx.draw(g, pos=pos, node_size=1000, node_color=color_map)\n",
        "\n",
        "  node_labels = {i: f'{i}({v})' for i, v in nx.get_node_attributes(g, \"demand\").items()}\n",
        "  nx.draw_networkx_labels(g, pos, labels=node_labels, font_size=10)\n",
        "\n",
        "  edge_labels = nx.get_edge_attributes(g, \"distance\")\n",
        "  nx.draw_networkx_edge_labels(g, pos, edge_labels=edge_labels)\n",
        "\n",
        "  plt.show()\n",
        "\n",
        "draw_graph(distances, resulting_edges, resulting_nodes)"
      ],
      "metadata": {
        "colab": {
          "base_uri": "https://localhost:8080/",
          "height": 516
        },
        "id": "t6j57ofRWFe7",
        "outputId": "42d79d81-259a-44c9-dba4-1041f599ac57"
      },
      "execution_count": 74,
      "outputs": [
        {
          "output_type": "display_data",
          "data": {
            "text/plain": [
              "<Figure size 640x480 with 1 Axes>"
            ],
            "image/png": "[encoded data removed]"
          },
          "metadata": {}
        }
      ]
    },
    {
      "cell_type": "markdown",
      "source": [
        "# Without self-roops"
      ],
      "metadata": {
        "id": "0S9eVWSdcvvu"
      }
    },
    {
      "cell_type": "code",
      "source": [
        "import copy\n",
        "\n",
        "distances2 = copy.deepcopy(d)\n",
        "for i in range(len(distances2)):\n",
        "  distances2[i][i] = 1000\n",
        "\n",
        "ampl.param[\"d\"] = {(i, j): distances2[i - 1][j - 1] for i in range(1, 6) for j in range(1, 6)}\n",
        "\n",
        "ampl.solve()"
      ],
      "metadata": {
        "id": "WaaBg-MPc1s6",
        "outputId": "1e00d6bd-ce1a-4817-f83a-c2447dd78fdb",
        "colab": {
          "base_uri": "https://localhost:8080/"
        }
      },
      "execution_count": 75,
      "outputs": [
        {
          "output_type": "stream",
          "name": "stdout",
          "text": [
            "GCG 3.6.0:   tech:outlev = 1\n",
            "presolving:\n",
            "(round 1, exhaustive) 0 del vars, 0 del conss, 0 add conss, 0 chg bounds, 0 chg sides, 0 chg coeffs, 10 upgd conss, 0 impls, 5 clqs\n",
            "   (0.0s) probing cycle finished: starting next cycle\n",
            "presolving (2 rounds: 2 fast, 2 medium, 2 exhaustive):\n",
            " 0 deleted vars, 0 deleted constraints, 0 added constraints, 0 tightened bounds, 0 added holes, 0 changed sides, 0 changed coefficients\n",
            " 0 implications, 30 cliques\n",
            "presolved problem has 30 variables (30 bin, 0 int, 0 impl, 0 cont) and 11 constraints\n",
            "      5 constraints of type <knapsack>\n",
            "      5 constraints of type <setppc>\n",
            "      1 constraints of type <linear>\n",
            "transformed objective value is always integral (scale: 1)\n",
            "Presolving Time: 0.01\n",
            " Consclassifier \"nonzeros\" yields a classification with 2  different constraint classes \n",
            " Consclassifier \"constypes\" yields a classification with 3 different constraint classes \n",
            " Consclassifier \"constypes according to miplib\" yields a classification with 3 different constraint classes \n",
            " Conspartition \"constypes according to miplib\" is not considered since it offers the same structure as \"constypes\" conspartition\n",
            " Consclassifier \"gamsdomain\" yields a classification with 1  different constraint classes \n",
            " Consclassifier \"gamssymbols\" yields a classification with 1  different constraint classes \n",
            " Conspartition \"gamssymbols\" is not considered since it offers the same structure as \"gamsdomain\" conspartition\n",
            " Varclassifier \"gamsdomain\" yields a classification with 1  different variable classes \n",
            " Varclassifier \"gamssymbols\" yields a classification with 1  different variable classes \n",
            " Varpartition \"gamssymbols\" is not considered since it offers the same structure as \"gamsdomain\"\n",
            " Varclassifier \"vartypes\" yields a classification with 1 different variable classes\n",
            " Varpartition \"vartypes\" is not considered since it offers the same structure as \"gamsdomain\"\n",
            " Varclassifier \"varobjvals\" yields a classification with 11 different variable classes\n",
            " Varclassifier \"varobjvalsigns\" yields a classification with 2 different variable classes\n",
            " Added reduced version of varpartition varobjvals with 9 different variable classes\n",
            " in dec_consclass: there are 3 different constraint classes   \n",
            "  the current constraint classifier \"nonzeros\" consists of 2 different classes   \n",
            "  the current constraint classifier \"constypes\" consists of 3 different classes   \n",
            "  the current constraint classifier \"gamsdomain\" consists of 1 different classes   \n",
            " dec_consclass found 11 new partialdecs \n",
            "dec_densemasterconss found 1 new partialdec \n",
            "dec_neighborhoodmaster found 1 new partialdec \n",
            " the current varclass distribution includes 11 classes but only 9 are allowed for propagatePartialdec() of var class detector\n",
            "POSTPROCESSING of decompositions. Added 0 new decomps. \n",
            "Found 521 finished decompositions.\n",
            "Measured running time per detector:\n",
            "Detector consclass                 worked on        7 finished decompositions and took a total time of      0.000\n",
            "Detector neighborhoodmaster        worked on        1 finished decompositions and took a total time of      0.000\n",
            "Detector connectedbase             worked on      520 finished decompositions and took a total time of      0.007\n",
            "Detector varclass                  worked on      512 finished decompositions and took a total time of      0.007\n",
            "Detection Time: 0.06\n",
            "\n",
            "A Dantzig-Wolfe reformulation is applied to solve the original problem.\n",
            "Chosen structure has 5 blocks and 6 linking constraints.\n",
            "This decomposition has a maxwhite score of 0.363636.\n",
            "Matrix has 5 blocks, using 5 pricing problems.\n",
            "\n",
            "  time | node  | left  |SLP iter|MLP iter|LP it/n| mem |mdpt |ovars|mvars|ocons|mcons|mcuts|  dualbound   | primalbound  |  deg   |  gap   \n",
            "p  0.0s|     1 |     0 |      0 |      0 |     - |3231k|   0 |  30 |   0 |  11 |   0 |   0 | 0.000000e+00 | 1.148000e+03 |   --   |    Inf \n",
            "p  0.0s|     1 |     0 |      0 |      0 |     - |3228k|   0 |  30 |   0 |  11 |   0 |   0 | 0.000000e+00 | 1.900000e+02 |   --   |    Inf \n",
            "   0.0s|     1 |     0 |      0 |      0 |     - |3225k|   0 |  30 |   0 |  11 |   0 |   0 | 8.700000e+01 | 1.900000e+02 |   --   | 118.39%\n",
            "r  0.0s|     1 |     0 |      0 |      0 |     - |3226k|   0 |  30 |   0 |  11 |   0 |   0 | 8.700000e+01 | 1.110000e+02 |   --   |  27.59%\n",
            "\n",
            "     \n",
            "   0.0s|     1 |     0 |      0 |      0 |     - |3352k|   0 |  30 |   5 |  12 |  12 |   0 | 8.700000e+01 | 1.110000e+02 |   0.00%|  27.59%\n",
            "   0.0s|     1 |     0 |      0 |      0 |     - |3364k|   0 |  30 |  10 |  12 |  12 |   0 | 8.700000e+01 | 1.110000e+02 |   0.00%|  27.59%\n",
            "Starting reduced cost pricing...\n",
            "   0.0s|     1 |     0 |     13 |     13 |     - |3394k|   0 |  30 |  19 |  12 |  12 |   0 | 1.110000e+02 | 1.110000e+02 |  54.55%|   0.00%\n",
            "   0.0s|     1 |     0 |     13 |     13 |     - |3374k|   0 |  30 |  10 |  12 |  12 |   0 | 1.110000e+02 | 1.110000e+02 |   --   |   0.00%\n",
            "\n",
            "SCIP Status        : problem is solved [optimal solution found]\n",
            "Solving Time (sec) : 0.03\n",
            "Solving Nodes      : 1\n",
            "Primal Bound       : +1.11000000000000e+02 (3 solutions)\n",
            "Dual Bound         : +1.11000000000000e+02\n",
            "Gap                : 0.00 %\n",
            "WARNING: Dual information only available for pure LPs (only continuous variables).\n",
            "\b\b\b\b\b\b\b\b\b\b\bGCG 3.6.0: optimal solution; objective 111\n",
            "8 simplex iterations\n",
            "1 branching nodes\n",
            " \n"
          ]
        }
      ]
    },
    {
      "cell_type": "code",
      "source": [
        "resulting_edges2 = [edge for edge, v in ampl.var[\"x\"].to_dict().items() if v==1]\n",
        "resulting_nodes2 = [node for node, v in ampl.var[\"y\"].to_dict().items() if v==1]\n",
        "\n",
        "draw_graph(distances2, resulting_edges2, resulting_nodes2)"
      ],
      "metadata": {
        "id": "mLKx_wuzDKdp",
        "outputId": "88ce4e51-423e-4192-e24f-6cc0c2301437",
        "colab": {
          "base_uri": "https://localhost:8080/",
          "height": 516
        }
      },
      "execution_count": 76,
      "outputs": [
        {
          "output_type": "display_data",
          "data": {
            "text/plain": [
              "<Figure size 640x480 with 1 Axes>"
            ],
            "image/png": "[encoded data removed]"
          },
          "metadata": {}
        }
      ]
    }
  ]
}