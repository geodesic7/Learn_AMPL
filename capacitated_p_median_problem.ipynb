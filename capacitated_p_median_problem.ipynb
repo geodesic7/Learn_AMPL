{
  "nbformat": 4,
  "nbformat_minor": 0,
  "metadata": {
    "colab": {
      "provenance": [],
      "authorship_tag": "ABX9TyP+OiRv4/gAVTuSownmrVV5"
    },
    "kernelspec": {
      "name": "python3",
      "display_name": "Python 3"
    },
    "language_info": {
      "name": "python"
    }
  },
  "cells": [
    {
      "cell_type": "markdown",
      "source": [
        "Reference: https://colab.research.google.com/github/ampl/colab.ampl.com/blob/master/authors/lentz/gcg/cpmp.ipynb"
      ],
      "metadata": {
        "id": "wubtlKVlQ--1"
      }
    },
    {
      "cell_type": "code",
      "source": [
        "%pip install -q amplpy"
      ],
      "metadata": {
        "colab": {
          "base_uri": "https://localhost:8080/"
        },
        "id": "UqxyEMT6RyYk",
        "outputId": "3429b8a6-7f4e-4cad-b004-a62b1e8a6cef"
      },
      "execution_count": 1,
      "outputs": [
        {
          "output_type": "stream",
          "name": "stdout",
          "text": [
            "\u001b[2K     \u001b[90m━━━━━━━━━━━━━━━━━━━━━━━━━━━━━━━━━━━━━━━━\u001b[0m \u001b[32m5.6/5.6 MB\u001b[0m \u001b[31m10.9 MB/s\u001b[0m eta \u001b[36m0:00:00\u001b[0m\n",
            "\u001b[?25h"
          ]
        }
      ]
    },
    {
      "cell_type": "code",
      "source": [
        "import pandas as pd\n",
        "from random import randint\n",
        "from amplpy import AMPL, ampl_notebook\n",
        "\n",
        "ampl = ampl_notebook(\n",
        "    modules=[\"gcg\"],  # modules to install\n",
        "    license_uuid=\"default\",  # license to use\n",
        ")"
      ],
      "metadata": {
        "colab": {
          "base_uri": "https://localhost:8080/"
        },
        "id": "TGUCaiUwR2ZL",
        "outputId": "c65efbe0-b257-4db4-9bea-860084af76e6"
      },
      "execution_count": 2,
      "outputs": [
        {
          "output_type": "stream",
          "name": "stdout",
          "text": [
            "Using default Community Edition License for Colab. Get yours at: https://ampl.com/ce\n",
            "Licensed to AMPL Community Edition License for the AMPL Model Colaboratory (https://colab.ampl.com).\n"
          ]
        }
      ]
    },
    {
      "cell_type": "markdown",
      "source": [
        "# Problem\n",
        "\n",
        "The goal of the capacitated $p$-median problem (CPMP) is to fix $p \\in \\mathbb{N}$ locations as medians from a given number of $n \\in \\mathbb{N}$ locations. Furthermore, we are given demands $q_{i} \\geq 0$ and capacities $Q_{i} \\geq 0$ for every location $i \\in \\{1,\\ldots,n\\}$ as well as distances $d_{ij} \\geq 0$ for each pair of locations $i,j \\in \\{1,\\ldots,n\\}$. While fixing the medians, we also assign every location $i \\in \\{1,\\ldots,n\\}$ to exactly one median such that the demands of all locations assigned to the median can be satisfied by the capacity of the median. An assignment of locations to a median is called a cluster. The overall objective is to minimize the total distance between the medians and their assigned locations.\n",
        "\n",
        "$$\n",
        "\\begin{aligned}\n",
        "\\text{minimize} \\quad &\\sum_{i = 1}^{n} \\sum_{j = 1}^{n} d_{i j}  x_{i j} \\\\\n",
        "\\text{subject to} \\quad &\\sum_{j = 1}^{n} x_{i j} = 1 \\quad \\forall i \\in \\{1,...,n\\} \\\\\n",
        "&\\sum_{i = 1}^{n} q_{i} x_{i j} \\leq Q_{j} y_{j} \\quad \\forall j \\in \\{1,...,n\\} \\\\\n",
        "&\\sum_{j = 1}^{n} y_{j} = p \\\\\n",
        "&x_{i j}, y_j \\in \\{0,1\\} \\quad \\forall i,j \\in \\{1,...,n\\}\n",
        "\\end{aligned}\n",
        "$$"
      ],
      "metadata": {
        "id": "ndk8BaN-SO0_"
      }
    },
    {
      "cell_type": "code",
      "source": [
        "%%ampl_eval\n",
        "param n;\n",
        "param p;\n",
        "\n",
        "set I = 1..n ordered;\n",
        "set J = 1..n ordered;\n",
        "\n",
        "param d {I,J};\n",
        "param w {I};\n",
        "param C {J};\n",
        "\n",
        "var x {I,J} binary;\n",
        "var y {J} binary;\n",
        "\n",
        "minimize Cost:  sum {i in I} sum {j in J} d[i,j] * x[i,j];\n",
        "\n",
        "subject to Allocate {i in I}:\n",
        "   sum {j in J} x[i,j] = 1;\n",
        "\n",
        "subject to Capacity {j in J}:\n",
        "   sum {i in I} w[i] * x[i,j] <= C[j] * y[j];\n",
        "\n",
        "subject to NFacilities:\n",
        "  sum{j in J} y[j] <= p;"
      ],
      "metadata": {
        "id": "aior7PntR9qp"
      },
      "execution_count": 3,
      "outputs": []
    },
    {
      "cell_type": "code",
      "source": [
        "ampl.param[\"n\"] = 5\n",
        "ampl.param[\"p\"] = 2\n",
        "\n",
        "d = [\n",
        "    [0, 6, 54, 52, 19],\n",
        "    [6, 0, 28, 75, 61],\n",
        "    [54, 28, 0, 91, 40],\n",
        "    [52, 75, 91, 0, 28],\n",
        "    [19, 61, 40, 28, 0],\n",
        "]\n",
        "ampl.param[\"d\"] = {(i, j): d[i - 1][j - 1] for i in range(1, 6) for j in range(1, 6)}\n",
        "\n",
        "ampl.param[\"w\"] = [14, 13, 9, 15, 6]\n",
        "ampl.param[\"C\"] = [39, 39, 39, 39, 39]"
      ],
      "metadata": {
        "id": "y6QC3QQ-T4Zj"
      },
      "execution_count": 4,
      "outputs": []
    },
    {
      "cell_type": "code",
      "source": [
        "ampl.option[\"solver\"] = \"gcg\"\n",
        "ampl.option[\"gcg_options\"] = \"outlev=1\"\n",
        "ampl.solve()"
      ],
      "metadata": {
        "colab": {
          "base_uri": "https://localhost:8080/"
        },
        "id": "R-5d_KTwUBT3",
        "outputId": "4277f820-44f8-4fc8-8b81-165930ff2bda"
      },
      "execution_count": 5,
      "outputs": [
        {
          "output_type": "stream",
          "name": "stdout",
          "text": [
            "GCG 3.6.0:   tech:outlev = 1\n",
            "presolving:\n",
            "(round 1, exhaustive) 0 del vars, 0 del conss, 0 add conss, 0 chg bounds, 0 chg sides, 0 chg coeffs, 10 upgd conss, 0 impls, 5 clqs\n",
            "(round 2, exhaustive) 0 del vars, 0 del conss, 0 add conss, 0 chg bounds, 0 chg sides, 0 chg coeffs, 11 upgd conss, 0 impls, 30 clqs\n",
            "   (0.0s) probing cycle finished: starting next cycle\n",
            "presolving (3 rounds: 3 fast, 3 medium, 3 exhaustive):\n",
            " 0 deleted vars, 0 deleted constraints, 0 added constraints, 0 tightened bounds, 0 added holes, 0 changed sides, 0 changed coefficients\n",
            " 0 implications, 30 cliques\n",
            "presolved problem has 30 variables (30 bin, 0 int, 0 impl, 0 cont) and 11 constraints\n",
            "      6 constraints of type <knapsack>\n",
            "      5 constraints of type <setppc>\n",
            "transformed objective value is always integral (scale: 1)\n",
            "Presolving Time: 0.00\n",
            " Consclassifier \"nonzeros\" yields a classification with 2  different constraint classes \n",
            " Consclassifier \"constypes\" yields a classification with 2 different constraint classes \n",
            " Consclassifier \"constypes according to miplib\" yields a classification with 3 different constraint classes \n",
            " Consclassifier \"gamsdomain\" yields a classification with 1  different constraint classes \n",
            " Consclassifier \"gamssymbols\" yields a classification with 1  different constraint classes \n",
            " Conspartition \"gamssymbols\" is not considered since it offers the same structure as \"gamsdomain\" conspartition\n",
            " Varclassifier \"gamsdomain\" yields a classification with 1  different variable classes \n",
            " Varclassifier \"gamssymbols\" yields a classification with 1  different variable classes \n",
            " Varpartition \"gamssymbols\" is not considered since it offers the same structure as \"gamsdomain\"\n",
            " Varclassifier \"vartypes\" yields a classification with 1 different variable classes\n",
            " Varpartition \"vartypes\" is not considered since it offers the same structure as \"gamsdomain\"\n",
            " Varclassifier \"varobjvals\" yields a classification with 10 different variable classes\n",
            " Varclassifier \"varobjvalsigns\" yields a classification with 2 different variable classes\n",
            " Added reduced version of varpartition varobjvals with 9 different variable classes\n",
            " in dec_consclass: there are 4 different constraint classes   \n",
            "  the current constraint classifier \"nonzeros\" consists of 2 different classes   \n",
            "  the current constraint classifier \"constypes\" consists of 2 different classes   \n",
            "  the current constraint classifier \"constypes according to miplib\" consists of 3 different classes   \n",
            "  the current constraint classifier \"gamsdomain\" consists of 1 different classes   \n",
            " dec_consclass found 14 new partialdecs \n",
            "dec_densemasterconss found 1 new partialdec \n",
            "dec_neighborhoodmaster found 1 new partialdec \n",
            " the current varclass distribution includes 10 classes but only 9 are allowed for propagatePartialdec() of var class detector\n",
            "POSTPROCESSING of decompositions. Added 0 new decomps. \n",
            "Found 521 finished decompositions.\n",
            "Measured running time per detector:\n",
            "Detector consclass                 worked on        7 finished decompositions and took a total time of      0.000\n",
            "Detector neighborhoodmaster        worked on        1 finished decompositions and took a total time of      0.000\n",
            "Detector connectedbase             worked on      520 finished decompositions and took a total time of      0.005\n",
            "Detector varclass                  worked on      512 finished decompositions and took a total time of      0.008\n",
            "Detection Time: 0.04\n",
            "\n",
            "A Dantzig-Wolfe reformulation is applied to solve the original problem.\n",
            "Chosen structure has 6 blocks and 5 linking constraints.\n",
            "This decomposition has a maxwhite score of 0.454545.\n",
            "Matrix has 6 blocks, using 6 pricing problems.\n",
            "\n",
            "  time | node  | left  |SLP iter|MLP iter|LP it/n| mem |mdpt |ovars|mvars|ocons|mcons|mcuts|  dualbound   | primalbound  |  deg   |  gap   \n",
            "p  0.0s|     1 |     0 |      0 |      0 |     - |3529k|   0 |  30 |   0 |  11 |   0 |   0 | 0.000000e+00 | 1.480000e+02 |   --   |    Inf \n",
            "p  0.0s|     1 |     0 |      0 |      0 |     - |3530k|   0 |  30 |   0 |  11 |   0 |   0 | 0.000000e+00 | 8.800000e+01 |   --   |    Inf \n",
            "p  0.0s|     1 |     0 |      0 |      0 |     - |3527k|   0 |  30 |   0 |  11 |   0 |   0 | 0.000000e+00 | 6.200000e+01 |   --   |    Inf \n",
            "   0.0s|     1 |     0 |      0 |      0 |     - |3523k|   0 |  30 |   0 |  11 |   0 |   0 | 0.000000e+00 | 6.200000e+01 |   --   |    Inf \n",
            "\n",
            "     \n",
            "   0.0s|     1 |     0 |      0 |      0 |     - |3650k|   0 |  30 |   6 |  12 |  12 |   0 | 0.000000e+00 | 6.200000e+01 |   0.00%|    Inf \n",
            "   0.0s|     1 |     0 |      0 |      0 |     - |3679k|   0 |  30 |  18 |  12 |  12 |   0 | 0.000000e+00 | 6.200000e+01 |   0.00%|    Inf \n",
            "Starting reduced cost pricing...\n",
            "   0.0s|     1 |     0 |     14 |     14 |     - |3690k|   0 |  30 |  21 |  12 |  12 |   0 | 0.000000e+00 | 6.200000e+01 |   9.09%|    Inf \n",
            "   0.1s|     1 |     2 |     27 |     27 |     - |3922k|   0 |  30 |  21 |  12 |  12 |   0 | 0.000000e+00 | 6.200000e+01 |   9.09%|    Inf \n",
            "\n",
            "SCIP Status        : problem is solved [optimal solution found]\n",
            "Solving Time (sec) : 0.22\n",
            "Solving Nodes      : 17\n",
            "Primal Bound       : +6.20000000000000e+01 (7 solutions)\n",
            "Dual Bound         : +6.20000000000000e+01\n",
            "Gap                : 0.00 %\n",
            "WARNING: Dual information only available for pure LPs (only continuous variables).\n",
            "\b\b\b\b\b\b\b\b\b\b\bGCG 3.6.0: optimal solution; objective 62\n",
            "10 simplex iterations\n",
            "17 branching nodes\n",
            " \n"
          ]
        }
      ]
    },
    {
      "cell_type": "code",
      "source": [
        "ampl.display(\"x\")"
      ],
      "metadata": {
        "colab": {
          "base_uri": "https://localhost:8080/"
        },
        "id": "itoP6si4UEUB",
        "outputId": "f91f0684-2f4e-4fd2-864e-28a046c02c60"
      },
      "execution_count": 6,
      "outputs": [
        {
          "output_type": "stream",
          "name": "stdout",
          "text": [
            "x [*,*]\n",
            ":   1   2   3   4   5    :=\n",
            "1   0   1   0   0   0\n",
            "2   0   1   0   0   0\n",
            "3   0   1   0   0   0\n",
            "4   0   0   0   0   1\n",
            "5   0   0   0   0   1\n",
            ";\n",
            "\n"
          ]
        }
      ]
    },
    {
      "cell_type": "code",
      "source": [
        "ampl.display(\"y\")"
      ],
      "metadata": {
        "colab": {
          "base_uri": "https://localhost:8080/"
        },
        "id": "subIJJelUTH9",
        "outputId": "2dc5a135-0a9c-4e64-feb5-9c5f3be016a4"
      },
      "execution_count": 7,
      "outputs": [
        {
          "output_type": "stream",
          "name": "stdout",
          "text": [
            "y [*] :=\n",
            "1  0\n",
            "2  1\n",
            "3  0\n",
            "4  0\n",
            "5  1\n",
            ";\n",
            "\n"
          ]
        }
      ]
    },
    {
      "cell_type": "markdown",
      "source": [
        "This allows self-loops."
      ],
      "metadata": {
        "id": "TCeJS51eVHf4"
      }
    },
    {
      "cell_type": "code",
      "source": [
        "import networkx as nx\n",
        "import matplotlib.pyplot as plt"
      ],
      "metadata": {
        "id": "yQvcXOOQWE1e"
      },
      "execution_count": 9,
      "outputs": []
    },
    {
      "cell_type": "code",
      "source": [
        "g = nx.DiGraph()\n",
        "g.add_weighted_edges_from([\n",
        "    (1, 2, 6),\n",
        "    (2, 2, 0),\n",
        "    (3, 2, 28),\n",
        "    (4, 5, 28),\n",
        "    (5, 5, 0)\n",
        "])\n",
        "\n",
        "color_map = ['yellow']*5\n",
        "color_map[1] = 'red'\n",
        "color_map[4] = 'red'\n",
        "\n",
        "options = {\n",
        "    'node_color': color_map,\n",
        "    'node_size': 400,\n",
        "    'width': 1,\n",
        "    'font_weight': 'bold',\n",
        "    'with_labels': True\n",
        "}\n",
        "nx.draw(g, **options)"
      ],
      "metadata": {
        "colab": {
          "base_uri": "https://localhost:8080/",
          "height": 516
        },
        "id": "t6j57ofRWFe7",
        "outputId": "01c16860-a758-449a-f472-594f5771d076"
      },
      "execution_count": 21,
      "outputs": [
        {
          "output_type": "display_data",
          "data": {
            "text/plain": [
              "<Figure size 640x480 with 1 Axes>"
            ],
            "image/png": "[encoded data removed]"
          },
          "metadata": {}
        }
      ]
    }
  ]
}