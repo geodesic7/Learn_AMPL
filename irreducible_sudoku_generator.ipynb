{
  "nbformat": 4,
  "nbformat_minor": 0,
  "metadata": {
    "colab": {
      "provenance": [],
      "authorship_tag": "ABX9TyMZd2YKnVt8wEMr3WJ7/4u4"
    },
    "kernelspec": {
      "name": "python3",
      "display_name": "Python 3"
    },
    "language_info": {
      "name": "python"
    }
  },
  "cells": [
    {
      "cell_type": "markdown",
      "source": [
        "References:\n",
        "* https://colab.ampl.com/index.html\n",
        "* https://colab.research.google.com/github/ampl/colab.ampl.com/blob/master/authors/marcos-dv/puzzles/sudoku_gen.ipynb"
      ],
      "metadata": {
        "id": "vMPbuCTYc5-T"
      }
    },
    {
      "cell_type": "markdown",
      "source": [
        "A partially filled Sudoku is called \"irreducible\" if there is only one way to complete it, and removing any of the clues allows multiple solutions.\n",
        "\n",
        "Find out whether a Sudoku is irreducible or not is not straightforward. We are integrating AMPL and Highs within an iterative method to generate irreducible puzzles."
      ],
      "metadata": {
        "id": "JG84SvPwyYEW"
      }
    },
    {
      "cell_type": "code",
      "execution_count": 1,
      "metadata": {
        "id": "UFJA9Qorc2hG",
        "outputId": "e88a49cd-0936-40e4-87dc-af407d7df267",
        "colab": {
          "base_uri": "https://localhost:8080/"
        }
      },
      "outputs": [
        {
          "output_type": "stream",
          "name": "stdout",
          "text": [
            "\u001b[2K     \u001b[90m━━━━━━━━━━━━━━━━━━━━━━━━━━━━━━━━━━━━━━━━\u001b[0m \u001b[32m5.6/5.6 MB\u001b[0m \u001b[31m15.0 MB/s\u001b[0m eta \u001b[36m0:00:00\u001b[0m\n",
            "\u001b[?25h"
          ]
        }
      ],
      "source": [
        "%pip install -q amplpy"
      ]
    },
    {
      "cell_type": "code",
      "source": [
        "# Google Colab & Kaggle integration\n",
        "from amplpy import AMPL, ampl_notebook\n",
        "\n",
        "ampl = ampl_notebook(\n",
        "    modules=[\"highs\"],  # modules to install\n",
        "    license_uuid=\"default\",  # license to use\n",
        ")  # instantiate AMPL object and register magics"
      ],
      "metadata": {
        "id": "HO8fnMXazItw",
        "outputId": "505a02c7-4e43-4aa9-da8b-85885360cc1f",
        "colab": {
          "base_uri": "https://localhost:8080/"
        }
      },
      "execution_count": 2,
      "outputs": [
        {
          "output_type": "stream",
          "name": "stdout",
          "text": [
            "Using default Community Edition License for Colab. Get yours at: https://ampl.com/ce\n",
            "Licensed to AMPL Community Edition License for the AMPL Model Colaboratory (https://colab.ampl.com).\n"
          ]
        }
      ]
    },
    {
      "cell_type": "code",
      "source": [
        "%%ampl_eval\n",
        "reset;\n",
        "\n",
        "# PARAMETERS AND SETS\n",
        "param n; # Sudoku size, usually n=3\n",
        "set ROWS := 1..n^2;\n",
        "set COLS := 1..n^2;\n",
        "set DIGITS := 1..n^2;\n",
        "set SUBSQUARES{sr in 1..n, sc in 1..n} =\n",
        "    setof {i in ROWS, j in COLS : sr = ceil(i/n) and sc = ceil(j/n)} (i,j);\n",
        "\n",
        "param T{ROWS, COLS} default 0 <= n^2; # Template\n",
        "param Weights{ROWS, COLS, DIGITS} default 0; # Objective function\n",
        "\n",
        "# VARIABLES\n",
        "var x{ROWS,COLS,DIGITS}, binary;\n",
        "\n",
        "# CONSTRAINTS\n",
        "Diff_Rows{i in ROWS, k in DIGITS}:\n",
        "\tsum{j in COLS} x[i,j,k] = 1;\n",
        "\n",
        "Diff_Cols{j in COLS, k in DIGITS}:\n",
        "\tsum{i in ROWS} x[i,j,k] = 1;\n",
        "\n",
        "Diff_Subsq{sr in 1..n, sc in 1..n, k in DIGITS}:\n",
        "\tsum{(i,j) in SUBSQUARES[sr,sc]} x[i,j,k] = 1;\n",
        "\n",
        "One_Digit{i in ROWS, j in COLS}:\n",
        "\tsum{k in DIGITS} x[i,j,k] = 1;\n",
        "\n",
        "Fill_Tile{i in ROWS, j in COLS : T[i,j] > 0}:\n",
        "\tx[i,j,T[i,j]] = 1;\n",
        "\n",
        "minimize f: sum{i in ROWS, j in COLS : T[i,j] > 0} Weights[i,j,T[i,j]]*x[i,j,T[i,j]];"
      ],
      "metadata": {
        "id": "l3yJi1yMzMH0"
      },
      "execution_count": 31,
      "outputs": []
    },
    {
      "cell_type": "code",
      "source": [
        "import itertools\n",
        "\n",
        "n = 3\n",
        "ampl.param[\"n\"] = n\n",
        "\n",
        "solution = [\n",
        "    [1, 2, 3, 4, 5, 6, 7, 8, 9],\n",
        "    [4, 5, 6, 7, 8, 9, 1, 2, 3],\n",
        "    [7, 8, 9, 1, 2, 3, 4, 5, 6],\n",
        "    [2, 3, 1, 5, 6, 4, 8, 9, 7],\n",
        "    [5, 6, 4, 8, 9, 7, 2, 3, 1],\n",
        "    [8, 9, 7, 2, 3, 1, 5, 6, 4],\n",
        "    [3, 1, 2, 6, 4, 5, 9, 7, 8],\n",
        "    [6, 4, 5, 9, 7, 8, 3, 1, 2],\n",
        "    [9, 7, 8, 3, 1, 2, 6, 4, 5],\n",
        "]\n",
        "\n",
        "rows = range(1, n * n + 1)  # 1..n^2\n",
        "ampl.param[\"T\"] = {\n",
        "    (i, j): solution[i - 1][j - 1] for i, j in itertools.product(rows, rows)\n",
        "}\n",
        "ampl.option[\"solver\"] = \"highs\"\n",
        "ampl.solve()"
      ],
      "metadata": {
        "id": "qzDUF_BW1q6W",
        "outputId": "5780b0ca-2a33-45ec-bf0c-77c4a9495b48",
        "colab": {
          "base_uri": "https://localhost:8080/"
        }
      },
      "execution_count": 32,
      "outputs": [
        {
          "output_type": "stream",
          "name": "stdout",
          "text": [
            "Solution determined by presolve;\n",
            "objective f = 0.\n"
          ]
        }
      ]
    },
    {
      "cell_type": "code",
      "source": [
        "import random\n",
        "import time\n",
        "\n",
        "# Step 2\n",
        "x = ampl.var[\"x\"]\n",
        "solution = {\n",
        "    (i, j): k\n",
        "    for (i, j, k) in itertools.product(rows, rows, rows)\n",
        "    if x[i, j, k].value() > 0\n",
        "}\n",
        "# Initial template\n",
        "ampl.param[\"T\"] = solution\n",
        "tiles = list(itertools.product(rows, rows))\n",
        "# Tiles are shuffled, as the very first tiles are going to be cleared.\n",
        "random.shuffle(tiles)"
      ],
      "metadata": {
        "id": "sssOOPmu1rtX"
      },
      "execution_count": 33,
      "outputs": []
    },
    {
      "cell_type": "code",
      "source": [
        "t0 = time.time()\n",
        "# Step 3\n",
        "for i, j in tiles:\n",
        "    # Step 3.1\n",
        "    # Clear clue + Add variable to the objective\n",
        "    ampl.eval(\"drop Fill_Tile[\" + str(i) + \",\" + str(j) + \"];\")\n",
        "    ampl.param[\"Weights\"][\n",
        "        i, j, solution[i, j]\n",
        "    ] = 1  # minimize x[i,j,T[i,j]] is the objective\n",
        "    # Solve\n",
        "    ampl.solve()\n",
        "    # Step 3.2\n",
        "    # Check if the objective changed\n",
        "    if ampl.obj[\"f\"].value() > 0:  # Unique solution: Clear clue\n",
        "        ampl.param[\"T\"][i, j] = 0\n",
        "    else:  # Multiple solution: Fix tile\n",
        "        ampl.eval(\"restore Fill_Tile[\" + str(i) + \",\" + str(j) + \"];\")\n",
        "    # Take out from the objective\n",
        "    ampl.param[\"Weights\"][i, j, solution[i, j]] = 0\n",
        "t1 = time.time()"
      ],
      "metadata": {
        "id": "A-SeRWQf6jLY",
        "outputId": "603c5b3a-4472-4fab-c66a-9680d99adef6",
        "colab": {
          "base_uri": "https://localhost:8080/"
        }
      },
      "execution_count": 34,
      "outputs": [
        {
          "output_type": "stream",
          "name": "stdout",
          "text": [
            "Solution determined by presolve;\n",
            "objective f = 1.\n",
            "Solution determined by presolve;\n",
            "objective f = 1.\n",
            "Solution determined by presolve;\n",
            "objective f = 1.\n",
            "Solution determined by presolve;\n",
            "objective f = 1.\n",
            "Solution determined by presolve;\n",
            "objective f = 1.\n",
            "Solution determined by presolve;\n",
            "objective f = 1.\n",
            "Solution determined by presolve;\n",
            "objective f = 1.\n",
            "Solution determined by presolve;\n",
            "objective f = 1.\n",
            "Solution determined by presolve;\n",
            "objective f = 1.\n",
            "Solution determined by presolve;\n",
            "objective f = 1.\n",
            "Solution determined by presolve;\n",
            "objective f = 1.\n",
            "Solution determined by presolve;\n",
            "objective f = 1.\n",
            "Solution determined by presolve;\n",
            "objective f = 1.\n",
            "Solution determined by presolve;\n",
            "objective f = 1.\n",
            "Solution determined by presolve;\n",
            "objective f = 1.\n",
            "Solution determined by presolve;\n",
            "objective f = 1.\n",
            "Solution determined by presolve;\n",
            "objective f = 1.\n",
            "Solution determined by presolve;\n",
            "objective f = 1.\n",
            "Solution determined by presolve;\n",
            "objective f = 1.\n",
            "Solution determined by presolve;\n",
            "objective f = 1.\n",
            "Solution determined by presolve;\n",
            "objective f = 1.\n",
            "Solution determined by presolve;\n",
            "objective f = 1.\n",
            "Solution determined by presolve;\n",
            "objective f = 1.\n",
            "Solution determined by presolve;\n",
            "objective f = 1.\n",
            "Solution determined by presolve;\n",
            "objective f = 1.\n",
            "Solution determined by presolve;\n",
            "objective f = 1.\n",
            "Solution determined by presolve;\n",
            "objective f = 1.\n",
            "Solution determined by presolve;\n",
            "objective f = 1.\n",
            "Solution determined by presolve;\n",
            "objective f = 1.\n",
            "Solution determined by presolve;\n",
            "objective f = 1.\n",
            "Solution determined by presolve;\n",
            "objective f = 1.\n",
            "Solution determined by presolve;\n",
            "objective f = 1.\n",
            "HiGHS 1.6.0: \b\b\b\b\b\b\b\b\b\b\b\b\bHiGHS 1.6.0: optimal solution; objective 0\n",
            "0 simplex iterations\n",
            "0 branching nodes\n",
            " \n",
            "Solution determined by presolve;\n",
            "objective f = 1.\n",
            "Solution determined by presolve;\n",
            "objective f = 1.\n",
            "Solution determined by presolve;\n",
            "objective f = 1.\n",
            "Solution determined by presolve;\n",
            "objective f = 1.\n",
            "Solution determined by presolve;\n",
            "objective f = 1.\n",
            "Solution determined by presolve;\n",
            "objective f = 1.\n",
            "Solution determined by presolve;\n",
            "objective f = 1.\n",
            "Solution determined by presolve;\n",
            "objective f = 1.\n",
            "HiGHS 1.6.0: \b\b\b\b\b\b\b\b\b\b\b\b\bHiGHS 1.6.0: optimal solution; objective 0\n",
            "0 simplex iterations\n",
            "0 branching nodes\n",
            " \n",
            "Solution determined by presolve;\n",
            "objective f = 1.\n",
            "HiGHS 1.6.0: \b\b\b\b\b\b\b\b\b\b\b\b\bHiGHS 1.6.0: optimal solution; objective 0\n",
            "0 simplex iterations\n",
            "0 branching nodes\n",
            " \n",
            "HiGHS 1.6.0: \b\b\b\b\b\b\b\b\b\b\b\b\bHiGHS 1.6.0: optimal solution; objective 0\n",
            "0 simplex iterations\n",
            "0 branching nodes\n",
            " \n",
            "Solution determined by presolve;\n",
            "objective f = 1.\n",
            "HiGHS 1.6.0: \b\b\b\b\b\b\b\b\b\b\b\b\bHiGHS 1.6.0: optimal solution; objective 0\n",
            "0 simplex iterations\n",
            "0 branching nodes\n",
            " \n",
            "Solution determined by presolve;\n",
            "objective f = 1.\n",
            "Solution determined by presolve;\n",
            "objective f = 1.\n",
            "HiGHS 1.6.0: \b\b\b\b\b\b\b\b\b\b\b\b\bHiGHS 1.6.0: optimal solution; objective 0\n",
            "0 simplex iterations\n",
            "0 branching nodes\n",
            " \n",
            "Solution determined by presolve;\n",
            "objective f = 1.\n",
            "Solution determined by presolve;\n",
            "objective f = 1.\n",
            "Solution determined by presolve;\n",
            "objective f = 1.\n",
            "Solution determined by presolve;\n",
            "objective f = 1.\n",
            "HiGHS 1.6.0: \b\b\b\b\b\b\b\b\b\b\b\b\bHiGHS 1.6.0: optimal solution; objective 0\n",
            "0 simplex iterations\n",
            "0 branching nodes\n",
            " \n",
            "Solution determined by presolve;\n",
            "objective f = 1.\n",
            "HiGHS 1.6.0: \b\b\b\b\b\b\b\b\b\b\b\b\bHiGHS 1.6.0: optimal solution; objective 0\n",
            "0 simplex iterations\n",
            "0 branching nodes\n",
            " \n",
            "Solution determined by presolve;\n",
            "objective f = 1.\n",
            "HiGHS 1.6.0: \b\b\b\b\b\b\b\b\b\b\b\b\bHiGHS 1.6.0: optimal solution; objective 0\n",
            "0 simplex iterations\n",
            "0 branching nodes\n",
            " \n",
            "HiGHS 1.6.0: \b\b\b\b\b\b\b\b\b\b\b\b\bHiGHS 1.6.0: optimal solution; objective 0\n",
            "0 simplex iterations\n",
            "0 branching nodes\n",
            " \n",
            "HiGHS 1.6.0: \b\b\b\b\b\b\b\b\b\b\b\b\bHiGHS 1.6.0: optimal solution; objective 0\n",
            "0 simplex iterations\n",
            "0 branching nodes\n",
            " \n",
            "HiGHS 1.6.0: \b\b\b\b\b\b\b\b\b\b\b\b\bHiGHS 1.6.0: optimal solution; objective 0\n",
            "0 simplex iterations\n",
            "0 branching nodes\n",
            " \n",
            "HiGHS 1.6.0: \b\b\b\b\b\b\b\b\b\b\b\b\bHiGHS 1.6.0: optimal solution; objective 0\n",
            "0 simplex iterations\n",
            "0 branching nodes\n",
            " \n",
            "Solution determined by presolve;\n",
            "objective f = 1.\n",
            "HiGHS 1.6.0: \b\b\b\b\b\b\b\b\b\b\b\b\bHiGHS 1.6.0: optimal solution; objective 0\n",
            "0 simplex iterations\n",
            "0 branching nodes\n",
            " \n",
            "Solution determined by presolve;\n",
            "objective f = 1.\n",
            "Solution determined by presolve;\n",
            "objective f = 1.\n",
            "Solution determined by presolve;\n",
            "objective f = 1.\n",
            "HiGHS 1.6.0: \b\b\b\b\b\b\b\b\b\b\b\b\bHiGHS 1.6.0: optimal solution; objective 1\n",
            "0 simplex iterations\n",
            "0 branching nodes\n",
            " \n",
            "HiGHS 1.6.0: \b\b\b\b\b\b\b\b\b\b\b\b\bHiGHS 1.6.0: optimal solution; objective 0\n",
            "0 simplex iterations\n",
            "0 branching nodes\n",
            " \n",
            "HiGHS 1.6.0: \b\b\b\b\b\b\b\b\b\b\b\b\bHiGHS 1.6.0: optimal solution; objective 1\n",
            "53 simplex iterations\n",
            "1 branching nodes\n",
            " \n",
            "HiGHS 1.6.0: \b\b\b\b\b\b\b\b\b\b\b\b\bHiGHS 1.6.0: optimal solution; objective 0\n",
            "0 simplex iterations\n",
            "0 branching nodes\n",
            " \n",
            "HiGHS 1.6.0: \b\b\b\b\b\b\b\b\b\b\b\b\bHiGHS 1.6.0: optimal solution; objective 0\n",
            "0 simplex iterations\n",
            "0 branching nodes\n",
            " \n",
            "HiGHS 1.6.0: \b\b\b\b\b\b\b\b\b\b\b\b\bHiGHS 1.6.0: optimal solution; objective 0\n",
            "0 simplex iterations\n",
            "0 branching nodes\n",
            " \n",
            "HiGHS 1.6.0: \b\b\b\b\b\b\b\b\b\b\b\b\bHiGHS 1.6.0: optimal solution; objective 0\n",
            "0 simplex iterations\n",
            "0 branching nodes\n",
            " \n",
            "HiGHS 1.6.0: \b\b\b\b\b\b\b\b\b\b\b\b\bHiGHS 1.6.0: optimal solution; objective 0\n",
            "0 simplex iterations\n",
            "0 branching nodes\n",
            " \n",
            "HiGHS 1.6.0: \b\b\b\b\b\b\b\b\b\b\b\b\bHiGHS 1.6.0: optimal solution; objective 0\n",
            "48 simplex iterations\n",
            "1 branching nodes\n",
            " \n",
            "HiGHS 1.6.0: \b\b\b\b\b\b\b\b\b\b\b\b\bHiGHS 1.6.0: optimal solution; objective 0\n",
            "0 simplex iterations\n",
            "1 branching nodes\n",
            " \n",
            "HiGHS 1.6.0: \b\b\b\b\b\b\b\b\b\b\b\b\bHiGHS 1.6.0: optimal solution; objective 0\n",
            "0 simplex iterations\n",
            "0 branching nodes\n",
            " \n",
            "HiGHS 1.6.0: \b\b\b\b\b\b\b\b\b\b\b\b\bHiGHS 1.6.0: optimal solution; objective 0\n",
            "4 simplex iterations\n",
            "1 branching nodes\n",
            " \n",
            "HiGHS 1.6.0: \b\b\b\b\b\b\b\b\b\b\b\b\bHiGHS 1.6.0: optimal solution; objective 0\n",
            "3 simplex iterations\n",
            "1 branching nodes\n",
            " \n"
          ]
        }
      ]
    },
    {
      "cell_type": "code",
      "source": [
        "def show_sudoku(T):\n",
        "    for i in rows:\n",
        "        for j in rows:\n",
        "            print(\n",
        "                int(T[i, j]) if int(T[i, j]) > 0 else \".\",\n",
        "                end=\" | \" if j % n == 0 and j < n * n else \"\",\n",
        "            )\n",
        "        print(\"\\n\" + \"-\" * ((n - 1) * 3 + n * n) if i % n == 0 else \"\")\n",
        "\n",
        "\n",
        "print(\"--- Sudoku template with unique solution:\\n\")\n",
        "show_sudoku(ampl.param[\"T\"])\n",
        "print(\"Time: \" + str(t1 - t0) + \" seconds\")"
      ],
      "metadata": {
        "id": "XF-brl1Y8tCm",
        "outputId": "948107a4-c4da-4b68-cd8e-68f0242eb618",
        "colab": {
          "base_uri": "https://localhost:8080/"
        }
      },
      "execution_count": 35,
      "outputs": [
        {
          "output_type": "stream",
          "name": "stdout",
          "text": [
            "--- Sudoku template with unique solution:\n",
            "\n",
            "..3 | .5. | ...\n",
            ".5. | ..9 | 12.\n",
            "7.. | 1.. | ...\n",
            "---------------\n",
            ".3. | ... | ..7\n",
            "..4 | ... | 2..\n",
            ".9. | 231 | 5..\n",
            "---------------\n",
            ".1. | 6.5 | 9..\n",
            "... | 9.8 | ..2\n",
            "... | ... | .4.\n",
            "---------------\n",
            "Time: 1.008357286453247 seconds\n"
          ]
        }
      ]
    },
    {
      "cell_type": "code",
      "source": [],
      "metadata": {
        "id": "Gp4pnO5M-cxo"
      },
      "execution_count": null,
      "outputs": []
    }
  ]
}
