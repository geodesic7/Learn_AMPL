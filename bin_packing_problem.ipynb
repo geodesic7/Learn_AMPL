Source: https://colab.research.google.com/github/ampl/colab.ampl.com/blob/master/authors/lentz/gcg/bpp.ipynb#scrollTo=rQ50dBwL7KbX
