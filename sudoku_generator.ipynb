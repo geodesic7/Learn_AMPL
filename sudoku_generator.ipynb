{
  "nbformat": 4,
  "nbformat_minor": 0,
  "metadata": {
    "colab": {
      "provenance": [],
      "authorship_tag": "ABX9TyPW9q1Zg+dIZ9+R3ZGLNOHw"
    },
    "kernelspec": {
      "name": "python3",
      "display_name": "Python 3"
    },
    "language_info": {
      "name": "python"
    }
  },
  "cells": [
    {
      "cell_type": "markdown",
      "source": [
        "References:\n",
        "* https://colab.ampl.com/index.html\n",
        "* https://colab.research.google.com/github/ampl/colab.ampl.com/blob/master/authors/marcos-dv/puzzles/sudoku_gen.ipynb"
      ],
      "metadata": {
        "id": "vMPbuCTYc5-T"
      }
    },
    {
      "cell_type": "code",
      "execution_count": null,
      "metadata": {
        "id": "UFJA9Qorc2hG"
      },
      "outputs": [],
      "source": []
    }
  ]
}